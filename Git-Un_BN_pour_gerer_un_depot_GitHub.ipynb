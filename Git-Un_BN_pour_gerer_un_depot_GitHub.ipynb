{
 "cells": [
  {
   "cell_type": "markdown",
   "metadata": {},
   "source": [
    "# Le Bloc Note pour gérer vos dépots GitHub\n",
    "> Cet exercice a pour objectif de vous accompagner dans la création d'un compte [GitHub](https://github.com/) et pour sa gestion en ligne de commande depuis votre navigateur via un interpréteur interactif **jupyter** en mode **Notebook** fonctionnant, par exemple, sur le serveur http://jupyterhub.ecmorlaix.bzh:8092.\n",
    "\n",
    "> Mais tout d'abord **félicitations** d'être déjà parvenu à ouvrir ce notebook, bientôt l'instruction `git` n'aura *\"presque\"* plus de secret pour vous, et les verbes tirer, commettre et pousser, trouveront un nouveau sens !\n",
    "\n",
    "> Ce document est un notebook jupyter, pour bien vous familiariser avec cet environnement regardez cette rapide [Introduction](Introduction-Le_BN_pour_explorer.ipynb).  \n",
    "\n",
    "---"
   ]
  },
  {
   "cell_type": "markdown",
   "metadata": {},
   "source": [
    "## Mise en situation :\n",
    "\n",
    "GitHub en lui-même n’est rien de plus qu’un réseau social comme Facebook ou Flickr. Vous construisez un profil, vous y déposez des projets à partager et vous vous connectez avec d’autres utilisateurs en suivant leurs comptes. Même si la plupart des utilisateurs y déposent des projets de programmes ou de code, rien ne vous empêche d’y placer des textes ou tout type de fichier à présenter dans vos répertoires de projets.\n",
    "\n",
    "**GitHub** est basé sur **Git**, une création de [Linus Torwald](https://fr.wikipedia.org/wiki/Linus_Torvalds) qui est l'inventeur du [noyau Linux](https://fr.wikipedia.org/wiki/Noyau_Linux). Il en est arrivé à créer [Git](https://fr.wikipedia.org/wiki/Git) pour justement pouvoir gérer le développement du projet Linux...\n",
    "\n",
    "Git est un logiciel de contrôle de version, ce qui signifie qu’il gère les modifications d’un projet sans écraser n’importe quelle partie du projet.\n",
    "\n",
    "Pourquoi utiliser quelque chose comme Git ? Supposons que vous mettiez à jour avec un collègue des pages sur le même site web. Vous faites des modifications, vous les sauvegardez et les versez sur le site. À ce stade, tout va bien. Le problème survient quand votre collègue travaille sur la même page que vous en même temps. L’un de vous va voir son travail écrasé.\n",
    "\n",
    "Une application de contrôle de version comme Git empêche ça d’arriver. Vous et votre collègue pouvez chacun de votre côté verser vos révisions sur la même page, et Git sauvegardera deux copies. Plus tard, vous pourrez fusionner vos modifications sans perdre le travail dans le processus. Vous pouvez même revenir en arrière à tout moment, parce que Git conserve une « copie instantanée » de tous les changements produits.\n",
    "\n",
    "Créer un compte sur GitHub.com apporte les contrôles de versions à vos projets web, et leur confère des fonctionnalités de réseaux sociaux. Vous pouvez parcourir les projets d’autres utilisateurs de Github, et même y télécharger des copies pour vous-même afin de les modifier, apprendre ou les enrichir. D’autres utilisateurs peuvent faire la même chose avec vos projets publics, repérer vos erreurs et suggérer des corrections. De toute façon, aucune donnée ne se perd parce que Git enregistre un “instantané” de chaque modification.\n",
    "\n",
    "source : https://www.christopheducamp.com/2013/12/15/github-pour-nuls-partie-1/\n",
    "et https://www.christopheducamp.com/2013/12/16/github-pour-nuls-partie-2/"
   ]
  },
  {
   "cell_type": "markdown",
   "metadata": {},
   "source": [
    "## Créer un dépot GitHub :\n",
    "Créer un compte sur GitHub (Sign up) depuis un navigateur à l'adresse https://github.com/, ou identifier vous (Sign in) si vous avez déjà un compte.\n",
    "\n",
    "<img src=\"img/GitHub00.png\" alt=\"inscription GitHub\" width=30%>\n",
    "\n",
    "A l'adresse https://github.com/new créer un nouveau répertoire de dépot nommé par exemple `pNomRepo` :\n",
    "\n",
    "<img src=\"img/GitHub01.png\" alt=\"nouveau repo GitHub\" width=50%>\n",
    "\n",
    "Cocher la case \"Initialize this repository with a README\" puis cliquer sur le bouton \"Create repository\".\n",
    "\n",
    "Voilà, vous faites maintenant parti d'un autre réseau social mondial celui des développeur de code...\n",
    "\n",
    "Remarquer que le fichier `Readme` à pour extension `.md` pour **Mardown** si vous ne connaissez pas ce langage de description rudimentaire rendez-vous sur le bloc-note [Markdown](MarkDown-Le_BN_pour_rapporter.ipynb).\n",
    "\n",
    "Il est possible de gérer un compte GitHub via son interface graphique depuis un navigateur ou sur un ordinateur personnel ou une tablette en y installant l'application GitHub Desktop adaptée.\n",
    "Pour vous intitier plus complètement dans ce sens https://guides.github.com/activities/hello-world/.\n",
    "\n",
    "Mais les ordinateurs du lycée ne sont pas personnel et sur le serveur http://jupyterhub.ecmorlaix.bzh:8092 il n'y a pas d'interface graphique. Il nous faut donc recourir *\"aux supers pouvoirs\"* de **la ligne de commande**..."
   ]
  },
  {
   "cell_type": "markdown",
   "metadata": {},
   "source": [
    "## Gérer en ligne de commande"
   ]
  },
  {
   "cell_type": "markdown",
   "metadata": {},
   "source": [
    "> En apprenant à piloter vos dépôts GitHub en ligne de commande depuis un navigateur via un environnement jupyter comme celui du serveur jupyterhub du lycée, alors vous comprendrez le processus de la [gestion de version](https://fr.wikipedia.org/wiki/Logiciel_de_gestion_de_versions) [décentralisée](https://fr.wikipedia.org/wiki/Gestion_de_versions#Gestion_de_versions_d.C3.A9centralis.C3.A9e) et par transposition vous serez rapidement capable de le faire aussi depuis n'importe quelle interface graphique...\n",
    "\n",
    "> Les intructions suivantes sont à saisir dans un terminal. Il est cependant possible de les exécuter depuis les cellules de code de ce bloc-note mais il sera alors nécessaire d'ajouter un `!` devant certaines...\n",
    "\n",
    "***  \n",
    "> Si vous n'êtes pas encore familiarisé avec la ligne de commnande dans un environnement jupyter rendez-vous sur le bloc-note [Terminal](Terminal-Un_BN_pour_la_ligne_de_commande.ipynb).  \n",
    "\n",
    "***"
   ]
  },
  {
   "cell_type": "markdown",
   "metadata": {},
   "source": [
    "### Mon pense-bête pour git :\n",
    "A mesure que vous explorez ce bloc-note compléter la liste descriptive suivante pour établir votre synthèse des principales instructions à retenir :\n",
    "<hr>\n",
    "<dl>\n",
    "  <dt>git init</dt>\n",
    "  <dd>...</dd>\n",
    "  <hr>  \n",
    "  <dt>git ...</dt>\n",
    "  <dd>...</dd>\n",
    "</dl>\n",
    "<hr>"
   ]
  },
  {
   "cell_type": "markdown",
   "metadata": {},
   "source": [
    "### Configuration Générale :"
   ]
  },
  {
   "cell_type": "markdown",
   "metadata": {},
   "source": [
    "#### Configurer un nom d'utilisateur pour l'ensemble de vos dossiers"
   ]
  },
  {
   "cell_type": "code",
   "execution_count": null,
   "metadata": {},
   "outputs": [],
   "source": [
    "git config --global user.name \"votrePseudoGitHub\""
   ]
  },
  {
   "cell_type": "markdown",
   "metadata": {},
   "source": [
    "##### Vérifier la configuration :"
   ]
  },
  {
   "cell_type": "code",
   "execution_count": null,
   "metadata": {},
   "outputs": [],
   "source": [
    "git config --global user.name"
   ]
  },
  {
   "cell_type": "markdown",
   "metadata": {},
   "source": [
    "#### Configurer une adresse mail pour l'ensemble de vos dossiers"
   ]
  },
  {
   "cell_type": "code",
   "execution_count": null,
   "metadata": {},
   "outputs": [],
   "source": [
    "git config --global user.email \"prenom.nom@eleves.ecmorlaix.fr\""
   ]
  },
  {
   "cell_type": "markdown",
   "metadata": {},
   "source": [
    "##### Vérifier la configuration :"
   ]
  },
  {
   "cell_type": "code",
   "execution_count": null,
   "metadata": {},
   "outputs": [],
   "source": [
    "git config --global user.email"
   ]
  },
  {
   "cell_type": "markdown",
   "metadata": {},
   "source": [
    "### Associer un dossier du serveur à un dépôt GitHub et récupérer son contenu (version longue) :"
   ]
  },
  {
   "cell_type": "markdown",
   "metadata": {},
   "source": [
    "#### Créer un dossier vide sur le serveur du même nom que le dépot GitHub correspondant "
   ]
  },
  {
   "cell_type": "code",
   "execution_count": null,
   "metadata": {},
   "outputs": [],
   "source": [
    "mkdir ~/pNomRepo"
   ]
  },
  {
   "cell_type": "markdown",
   "metadata": {},
   "source": [
    "#### Ce placer dans ce dossier"
   ]
  },
  {
   "cell_type": "code",
   "execution_count": null,
   "metadata": {},
   "outputs": [],
   "source": [
    "cd ~/pNomRepo"
   ]
  },
  {
   "cell_type": "markdown",
   "metadata": {},
   "source": [
    "#### Initialiser ce dossier en tant que dossier git :"
   ]
  },
  {
   "cell_type": "code",
   "execution_count": null,
   "metadata": {},
   "outputs": [],
   "source": [
    "git init"
   ]
  },
  {
   "cell_type": "markdown",
   "metadata": {},
   "source": [
    "##### Vérifier la présence d'un dossier caché .git :"
   ]
  },
  {
   "cell_type": "code",
   "execution_count": null,
   "metadata": {},
   "outputs": [],
   "source": [
    "ls -a"
   ]
  },
  {
   "cell_type": "markdown",
   "metadata": {},
   "source": [
    "#### Connecter ce dossier à votre dépôt GitHub :"
   ]
  },
  {
   "cell_type": "code",
   "execution_count": null,
   "metadata": {},
   "outputs": [],
   "source": [
    "git remote add origin https://github.com/votrePseudoGitHub/pNomRepo.git"
   ]
  },
  {
   "cell_type": "markdown",
   "metadata": {},
   "source": [
    "##### Vérifier la connection :"
   ]
  },
  {
   "cell_type": "code",
   "execution_count": null,
   "metadata": {},
   "outputs": [],
   "source": [
    "git remote -v"
   ]
  },
  {
   "cell_type": "markdown",
   "metadata": {},
   "source": [
    "#### Récupérer les données du dépôt GitHub dans votre dossier sur le serveur"
   ]
  },
  {
   "cell_type": "code",
   "execution_count": null,
   "metadata": {},
   "outputs": [],
   "source": [
    "git pull origin master"
   ]
  },
  {
   "cell_type": "markdown",
   "metadata": {},
   "source": [
    "### Associer un dossier du serveur à un dépôt GitHub et récupérer son contenu (version courte) :"
   ]
  },
  {
   "cell_type": "markdown",
   "metadata": {},
   "source": [
    "#### Cloner un dépôt GitHub dans un nouveau dossier nommé par exemple `monRepo` sur le serveur :"
   ]
  },
  {
   "cell_type": "code",
   "execution_count": null,
   "metadata": {},
   "outputs": [],
   "source": [
    "git clone https://github.com/votrePseudoGitHub/pNomRepo.git monRepo"
   ]
  },
  {
   "cell_type": "markdown",
   "metadata": {},
   "source": [
    "> Si on ne précise pas le nom du dossier à la fin de l'instruction, alors c'est le nom du dépôt GitHub cloner qui est attribué par défaut au dossier auquel il sera associé.\n",
    "\n",
    "> Il faut ajouter `.git` à l'URL d'un  dépot GitHub pour le cloner."
   ]
  },
  {
   "cell_type": "markdown",
   "metadata": {},
   "source": [
    "##### Vérifier la connection, la récupération du fichier `Readme.md` et l'état de votre copie de travail :"
   ]
  },
  {
   "cell_type": "code",
   "execution_count": null,
   "metadata": {},
   "outputs": [],
   "source": [
    "cd ~/monRepo"
   ]
  },
  {
   "cell_type": "code",
   "execution_count": null,
   "metadata": {},
   "outputs": [],
   "source": [
    "git remote -v"
   ]
  },
  {
   "cell_type": "code",
   "execution_count": null,
   "metadata": {},
   "outputs": [],
   "source": [
    "ls -a"
   ]
  },
  {
   "cell_type": "code",
   "execution_count": null,
   "metadata": {},
   "outputs": [],
   "source": [
    "git status"
   ]
  },
  {
   "cell_type": "markdown",
   "metadata": {},
   "source": [
    "### Modifier le dépôt GitHub associé à partir de votre dossier sur le serveur"
   ]
  },
  {
   "cell_type": "markdown",
   "metadata": {},
   "source": [
    "#### Créer un fichier :"
   ]
  },
  {
   "cell_type": "code",
   "execution_count": null,
   "metadata": {},
   "outputs": [],
   "source": [
    "echo  \"Bonjour, voici ma contibution !\">~/monRepo/bonjour.txt"
   ]
  },
  {
   "cell_type": "code",
   "execution_count": null,
   "metadata": {},
   "outputs": [],
   "source": [
    "less ~/monRepo/bonjour.txt # touche \"Q\" pour quitter"
   ]
  },
  {
   "cell_type": "code",
   "execution_count": null,
   "metadata": {},
   "outputs": [],
   "source": [
    "git status"
   ]
  },
  {
   "cell_type": "markdown",
   "metadata": {},
   "source": [
    "#### Modifier un fichier :\n",
    "Ouvrir le fichier README.md dans l'éditeur de texte de l'environnement jupyter ou en ligne de commande avec [Nano](https://doc.ubuntu-fr.org/nano) (ou [Vim](https://doc.ubuntu-fr.org/vim), ou [Emacs](https://doc.ubuntu-fr.org/emacs))"
   ]
  },
  {
   "cell_type": "code",
   "execution_count": null,
   "metadata": {},
   "outputs": [],
   "source": [
    "nano -w ~/monRepo/README.md"
   ]
  },
  {
   "cell_type": "markdown",
   "metadata": {},
   "source": [
    "Effectuer des modifications telles que :\n",
    "<img src=\"img/Nano.png\" alt=\"nouveau repo GitHub\" width=90%>\n",
    "> Pour Nano, utiliser les touches `Ctrl+X` pour Quitter, `O` pour valider les modifications puis appuyer sur la touche `Entrée`."
   ]
  },
  {
   "cell_type": "code",
   "execution_count": null,
   "metadata": {},
   "outputs": [],
   "source": [
    "git status"
   ]
  },
  {
   "cell_type": "markdown",
   "metadata": {},
   "source": [
    "#### Visualiser tous les changements réalisés"
   ]
  },
  {
   "cell_type": "code",
   "execution_count": null,
   "metadata": {},
   "outputs": [],
   "source": [
    "git diff "
   ]
  },
  {
   "cell_type": "markdown",
   "metadata": {},
   "source": [
    "> Les suppresions apparaissent en rouge précédées d'un signe **`-`**, et les ajouts apparaissent en vert prédédés d'un signe **`+`**.\n",
    "\n",
    "> Utiliser avec la commande `git diff nomDuFichier` pour ne voir que les modifications effectuées sur un fichier "
   ]
  },
  {
   "cell_type": "markdown",
   "metadata": {},
   "source": [
    "#### Ajouter les changements à mettre à jour"
   ]
  },
  {
   "cell_type": "code",
   "execution_count": null,
   "metadata": {},
   "outputs": [],
   "source": [
    "git add bonjour.txt README.md"
   ]
  },
  {
   "cell_type": "code",
   "execution_count": null,
   "metadata": {},
   "outputs": [],
   "source": [
    "git status"
   ]
  },
  {
   "cell_type": "markdown",
   "metadata": {},
   "source": [
    ">###### Remarque :\n",
    "> La commande `git add *` permet d'ajouter tous les fichiers modifiés en une fois. "
   ]
  },
  {
   "cell_type": "markdown",
   "metadata": {},
   "source": [
    "#### Valider et consigner votre modification"
   ]
  },
  {
   "cell_type": "code",
   "execution_count": null,
   "metadata": {},
   "outputs": [],
   "source": [
    "git commit -m \"Ajout Bonjour\""
   ]
  },
  {
   "cell_type": "code",
   "execution_count": null,
   "metadata": {},
   "outputs": [],
   "source": [
    "git status"
   ]
  },
  {
   "cell_type": "markdown",
   "metadata": {},
   "source": [
    "> La commande `git commit -a -m \"mon message\"` permet de directement valider et consigner les modifications qui concernent tous les fichiers déjà suivis sans avoir à passer préalablement par une commande `add`."
   ]
  },
  {
   "cell_type": "markdown",
   "metadata": {},
   "source": [
    "#### Afficher un journal des révisions successives éfectuées dans un dépot :"
   ]
  },
  {
   "cell_type": "code",
   "execution_count": null,
   "metadata": {},
   "outputs": [],
   "source": [
    "git log"
   ]
  },
  {
   "cell_type": "markdown",
   "metadata": {},
   "source": [
    "> Ce qu'il faut comprendre lorsque l'on fait un `commit` c'est que l'on génère un point d'étape du développement d'un projet sur lequel on peut revenir ensuite à tout moment...\n",
    "\n",
    "> Pour l'instant cette mise à jour n'existe que dans votre dossier sur le serveur jupyter et pas encore sur GitHub.\n",
    "Avec Git on peut encore la modifier à ce niveau là si on a fait une erreur..."
   ]
  },
  {
   "cell_type": "markdown",
   "metadata": {},
   "source": [
    "#### Mettre à jour votre dépôt GitHub avec votre copie de travail"
   ]
  },
  {
   "cell_type": "markdown",
   "metadata": {},
   "source": [
    "> Attention, l'instruction suivante ne fonctionnera pas dans un bloc-note même avec un `!` devant. Il faut impérativement l'exécuter dans un terminal..."
   ]
  },
  {
   "cell_type": "code",
   "execution_count": null,
   "metadata": {},
   "outputs": [],
   "source": [
    "git push origin master"
   ]
  },
  {
   "cell_type": "markdown",
   "metadata": {},
   "source": [
    "Renseigner alors votre votre pseudo et votre mot de passse GitHub..."
   ]
  },
  {
   "cell_type": "markdown",
   "metadata": {},
   "source": [
    "##### Vérifier l'état de votre copie de travail :"
   ]
  },
  {
   "cell_type": "code",
   "execution_count": null,
   "metadata": {},
   "outputs": [],
   "source": [
    "git status"
   ]
  },
  {
   "cell_type": "markdown",
   "metadata": {},
   "source": [
    "##### Enfin il ne reste plus qu'à vérifier la mise à jour du contenu de votre dépot GitHub en ligne..."
   ]
  },
  {
   "cell_type": "markdown",
   "metadata": {},
   "source": [
    "### Développer sur des branches différentes et les mettre à jour sur la branche master :\n",
    "\n",
    "..."
   ]
  },
  {
   "cell_type": "markdown",
   "metadata": {},
   "source": [
    "### Résumé visuel du workflow Git + GitHub pour gérer votre dépot via le serveur jupyterhub :\n",
    "\n",
    "..."
   ]
  },
  {
   "cell_type": "markdown",
   "metadata": {},
   "source": [
    "## Transformer un dépot GitHub en serveur Web pour vos pages statiques :\n",
    "\n",
    "A la lecture des vidéos de Daniel Shiffman suivantes, déposer sur GitHub et publier vos précédentes pages web et codes d'activités réalisées sur P5.js :\n",
    "- Version de base détaillée : https://www.youtube.com/embed/bFVtrlyH-kc\n",
    "- Version résumée intégrant P5.js : https://www.youtube.com/embed/8HPYsDTk17A"
   ]
  },
  {
   "cell_type": "code",
   "execution_count": 3,
   "metadata": {},
   "outputs": [
    {
     "data": {
      "text/html": [
       "<center>\n",
       "<h2>Version de base détaillée :</h2>\n",
       "<iframe width=\"560\" height=\"315\" src=\"https://www.youtube.com/embed/bFVtrlyH-kc\" frameborder=\"0\" allow=\"accelerometer; autoplay; encrypted-media; gyroscope; picture-in-picture\" allowfullscreen></iframe>\n",
       "<h2>Version résumée intégrant P5.js :</h2>\n",
       "<iframe width=\"560\" height=\"315\" src=\"https://www.youtube.com/embed/8HPYsDTk17A\" frameborder=\"0\" allow=\"accelerometer; autoplay; encrypted-media; gyroscope; picture-in-picture\" allowfullscreen></iframe>\n",
       "</center>\n"
      ],
      "text/plain": [
       "<IPython.core.display.HTML object>"
      ]
     },
     "metadata": {},
     "output_type": "display_data"
    }
   ],
   "source": [
    "%%HTML\n",
    "<center>\n",
    "<h2>Version de base détaillée :</h2>\n",
    "<iframe width=\"560\" height=\"315\" src=\"https://www.youtube.com/embed/bFVtrlyH-kc\" frameborder=\"0\" allow=\"accelerometer; autoplay; encrypted-media; gyroscope; picture-in-picture\" allowfullscreen></iframe>\n",
    "<h2>Version résumée intégrant P5.js :</h2>\n",
    "<iframe width=\"560\" height=\"315\" src=\"https://www.youtube.com/embed/8HPYsDTk17A\" frameborder=\"0\" allow=\"accelerometer; autoplay; encrypted-media; gyroscope; picture-in-picture\" allowfullscreen></iframe>\n",
    "</center>"
   ]
  },
  {
   "cell_type": "markdown",
   "metadata": {},
   "source": [
    "## Collaborer à deux sur un dépot de projet commun :\n",
    "\n",
    "http://defeo.lu/in202/tutorials/tutorial4/"
   ]
  },
  {
   "cell_type": "markdown",
   "metadata": {},
   "source": [
    "git init : Initialise un dépôt git dans un répertoire vide.\n",
    "    \n",
    "git status : Affiche le statut des choses dans le répertoire suivi\n",
    "    \n",
    "git add <NOM DU FICHIER A SUIVRE> : Ajoute un fichier à suivre dans la zone d’attente\n",
    "    \n",
    "git commit -m \"entrez votre message\" : Consigner (déclarer) toute modification.\n",
    "    \n",
    "git remote add origin [adresse URL GitHub ici] : Connecte votre dépôt local avec GitHub.\n",
    "    \n",
    "git push -u origin nom_branche : Pousse les modifications vers GitHub\n",
    "    \n",
    "git checkout : basculer vers une (autre) branche\n",
    "    \n",
    "git -b <NomBranche> : crée une nouvelle branche dans votre dépôt.\n",
    "    \n",
    "git log: affiche un journal des modifications au dépôt\n",
    "    \n",
    "git clone <URL PROVENANT DE GITHUB> : clone un projet de votre système à partir de github\n",
    "    \n",
    "git branch <nom_branche> : crée une copie de la branche master appelée\n",
    "    \n",
    "git checkout <branch_name> : bascule vers nom_branche comme branche de travail\n",
    "    \n",
    "git checkout master : bascule la branche vers master\n",
    "    \n",
    "git branch -a : affiche les branches existantes pour le dépôt particulier\n",
    "    "
   ]
  },
  {
   "cell_type": "markdown",
   "metadata": {},
   "source": [
    "## Ressources :\n",
    "\n",
    "RTFM : `~$ git help`, `~$ man git` ou `~$ info git`\n",
    "\n",
    "La bible en Français : https://git-scm.com/book/fr/v2\n",
    "\n",
    "La chaine GitHub Training & Guides sur Youtube : https://www.youtube.com/GitHubGuides\n",
    "\n",
    "Sur la Chaine [The Coding Train](https://www.youtube.com/channel/UCvjgXvBlbQiydffZU7m1_aw) de [Daniel Shiffman](https://shiffman.net/) une playlist pour [Git & GitHub](https://www.youtube.com/playlist?list=PLRqwX-V7Uu6ZF9C0YMKuns9sLDzK6zoiV)\n",
    "\n",
    "Un Tutoriel interactif : https://www.codecademy.com/learn/learn-git\n",
    "\n",
    "Le tutoriel de Atlassian : https://www.atlassian.com/git/tutorials\n",
    "\n",
    "Une explication interactive des principales commandes : http://onlywei.github.io/explain-git-with-d3/\n",
    "\n",
    "Un tutoriel en Français : https://openclassrooms.com/fr/courses/1233741-gerez-vos-codes-source-avec-git\n",
    "\n",
    "Un petit guide en Français : http://rogerdudler.github.io/git-guide/index.fr.html\n",
    "\n",
    "Un pense bête pas bète : https://gist.github.com/aquelito/8596717"
   ]
  },
  {
   "cell_type": "markdown",
   "metadata": {},
   "source": [
    "***  \n",
    "\n",
    "> **Félicitations !** Vous êtes parvenu au bout des activités de ce bloc note.  \n",
    "> Vous êtes maintenant capable de gérer vos dépots GitHub depuis un navigateur via un environnement interactif jupyter notebook.\n",
    "\n",
    "> Pour explorer plus avant d'autres fonctionnalités de jupyter notebook repassez par le [Sommaire](index.ipynb).\n",
    "\n",
    "***"
   ]
  },
  {
   "cell_type": "markdown",
   "metadata": {},
   "source": [
    "<a rel=\"license\" href=\"http://creativecommons.org/licenses/by-sa/4.0/\"><img alt=\"Licence Creative Commons\" style=\"border-width:0\" src=\"https://i.creativecommons.org/l/by-sa/4.0/88x31.png\" /></a><br />Ce document est mis à disposition selon les termes de la <a rel=\"license\" href=\"http://creativecommons.org/licenses/by-sa/4.0/\">Licence Creative Commons Attribution -  Partage dans les Mêmes Conditions 4.0 International</a>.\n",
    "\n",
    "Pour toute question, suggestion ou commentaire : <a href=\"mailto:eric.madec@ecmorlaix.fr\">eric.madec@ecmorlaix.fr</a>"
   ]
  }
 ],
 "metadata": {
  "kernelspec": {
   "display_name": "Python 3",
   "language": "python",
   "name": "python3"
  },
  "language_info": {
   "codemirror_mode": {
    "name": "ipython",
    "version": 3
   },
   "file_extension": ".py",
   "mimetype": "text/x-python",
   "name": "python",
   "nbconvert_exporter": "python",
   "pygments_lexer": "ipython3",
   "version": "3.6.5"
  }
 },
 "nbformat": 4,
 "nbformat_minor": 2
}
